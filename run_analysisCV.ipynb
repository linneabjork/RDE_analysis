{
 "cells": [
  {
   "cell_type": "markdown",
   "metadata": {},
   "source": [
    "Initializing."
   ]
  },
  {
   "cell_type": "code",
   "execution_count": 5,
   "metadata": {},
   "outputs": [
    {
     "name": "stdout",
     "output_type": "stream",
     "text": [
      "The autoreload extension is already loaded. To reload it, use:\n",
      "  %reload_ext autoreload\n"
     ]
    },
    {
     "data": {
      "text/plain": [
       "''"
      ]
     },
     "execution_count": 5,
     "metadata": {},
     "output_type": "execute_result"
    }
   ],
   "source": [
    "%load_ext autoreload\n",
    "from analysis_CV import *\n",
    "import tkinter as tk\n",
    "from tkinter import filedialog \n",
    "from tkinter import messagebox\n",
    "import os\n",
    "\n",
    "root = tk.Tk()\n",
    "root.withdraw()\n",
    "root.lift()\n",
    "root.attributes(\"-topmost\", True)"
   ]
  },
  {
   "cell_type": "markdown",
   "metadata": {},
   "source": [
    "Choose folder with the data files to be analyzed."
   ]
  },
  {
   "cell_type": "code",
   "execution_count": 8,
   "metadata": {},
   "outputs": [
    {
     "name": "stdout",
     "output_type": "stream",
     "text": [
      "Path: /Users/linneabjork/Documents/PhD TUM/RDE_analysis/ML01\n"
     ]
    }
   ],
   "source": [
    "path = filedialog.askdirectory()\n",
    "#root.mainloop()\n",
    "\n",
    "# Check whether measurement is complete: (cf. https://www.devdungeon.com/content/dialog-boxes-python#toc-3\n",
    "if len(os.listdir(path)) < 212:\n",
    "    messagebox.showwarning(\"RDE Analysis\", \"Warning: Folder does not contain enough files\")\n",
    "    sys.exit()\n",
    "print(\"Path:\", path)"
   ]
  },
  {
   "cell_type": "markdown",
   "metadata": {},
   "source": [
    "Open the file with the interesting voltage and current data."
   ]
  },
  {
   "cell_type": "code",
   "execution_count": 9,
   "metadata": {},
   "outputs": [],
   "source": [
    "%autoreload\n",
    "file = filedialog.askopenfilename()\n",
    "V, I = get_voltage_current(file)"
   ]
  },
  {
   "cell_type": "markdown",
   "metadata": {},
   "source": [
    "Introduce background and parameters."
   ]
  },
  {
   "cell_type": "code",
   "execution_count": 10,
   "metadata": {},
   "outputs": [],
   "source": [
    "%autoreload\n",
    "background_file = filedialog.askopenfilename()\n",
    "background_matrix = get_background(background_file)"
   ]
  },
  {
   "cell_type": "code",
   "execution_count": 11,
   "metadata": {},
   "outputs": [],
   "source": [
    "parameters_file = filedialog.askopenfilename()\n",
    "parameters_dictionary = get_parameters(parameters_file)"
   ]
  },
  {
   "cell_type": "markdown",
   "metadata": {},
   "source": [
    "Corrections:\n",
    "* Voltage to RHE potential.\n",
    "* iR-drop correction\n",
    "* Background adjustment of current"
   ]
  },
  {
   "cell_type": "code",
   "execution_count": 14,
   "metadata": {},
   "outputs": [],
   "source": [
    "%autoreload\n",
    "voltage_RHE, background_RHE = RHE_correction(V, background_matrix, parameters_dictionary)\n",
    "\n",
    "new_V = ir_drop_correction(voltage_RHE, background_RHE, 3, parameters_dictionary)\n",
    "\n",
    "new_I = background_correction_current(I, background_RHE, 3)"
   ]
  },
  {
   "cell_type": "markdown",
   "metadata": {},
   "source": [
    "Normalizing to geometric surface area and mass."
   ]
  },
  {
   "cell_type": "code",
   "execution_count": 16,
   "metadata": {},
   "outputs": [],
   "source": [
    "%autoreload\n",
    "mass_V, mass_I, surface_V, surface_I = normalizing(new_V, new_I, parameters_dictionary)"
   ]
  }
 ],
 "metadata": {
  "kernelspec": {
   "display_name": "Python 3",
   "language": "python",
   "name": "python3"
  },
  "language_info": {
   "codemirror_mode": {
    "name": "ipython",
    "version": 3
   },
   "file_extension": ".py",
   "mimetype": "text/x-python",
   "name": "python",
   "nbconvert_exporter": "python",
   "pygments_lexer": "ipython3",
   "version": "3.11.1"
  }
 },
 "nbformat": 4,
 "nbformat_minor": 2
}
