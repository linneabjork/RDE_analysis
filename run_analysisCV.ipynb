{
 "cells": [
  {
   "cell_type": "code",
   "execution_count": 1,
   "metadata": {},
   "outputs": [
    {
     "name": "stdout",
     "output_type": "stream",
     "text": [
      "Path: C:/Users/go29guw/Documents/Data analysis/RDE_analysis/ML01\n"
     ]
    }
   ],
   "source": [
    "%load_ext autoreload\n",
    "from analysis_CV import get_voltage_current, get_background, get_parameters, RHE_correction\n",
    "from tkinter import filedialog \n",
    "from tkinter import *\n",
    "from tkinter import messagebox\n",
    "import os\n",
    "\n",
    "root = Tk()\n",
    "root.withdraw()\n",
    "root.lift()\n",
    "root.attributes(\"-topmost\", True)\n",
    "path = filedialog.askdirectory()\n",
    "#root.mainloop()\n",
    "\n",
    "# Check whether measurement is complete: (cf. https://www.devdungeon.com/content/dialog-boxes-python#toc-3\n",
    "if len(os.listdir(path)) < 212:\n",
    "    messagebox.showwarning(\"RDE Analysis\", \"Warning: Folder does not contain enough files\")\n",
    "    sys.exit()\n",
    "print(\"Path:\", path)"
   ]
  },
  {
   "cell_type": "markdown",
   "metadata": {},
   "source": [
    "Open the file with the interesting voltage and current data."
   ]
  },
  {
   "cell_type": "code",
   "execution_count": 2,
   "metadata": {},
   "outputs": [],
   "source": [
    "%autoreload\n",
    "file = filedialog.askopenfilename()\n",
    "V, I = get_voltage_current(file)\n"
   ]
  },
  {
   "cell_type": "markdown",
   "metadata": {},
   "source": [
    "Introduce background and parameters."
   ]
  },
  {
   "cell_type": "code",
   "execution_count": 3,
   "metadata": {},
   "outputs": [],
   "source": [
    "%autoreload\n",
    "background_file = filedialog.askopenfilename()\n",
    "background_matrix = get_background(background_file)\n"
   ]
  },
  {
   "cell_type": "code",
   "execution_count": 4,
   "metadata": {},
   "outputs": [],
   "source": [
    "parameters_file = filedialog.askopenfilename()\n",
    "parameters_dictionary = get_parameters(parameters_file)"
   ]
  },
  {
   "cell_type": "code",
   "execution_count": 5,
   "metadata": {},
   "outputs": [],
   "source": [
    "%autoreload\n",
    "corrected_V, corrected_background = RHE_correction(V, background_matrix, parameters_dictionary)"
   ]
  }
 ],
 "metadata": {
  "kernelspec": {
   "display_name": "Python 3",
   "language": "python",
   "name": "python3"
  },
  "language_info": {
   "codemirror_mode": {
    "name": "ipython",
    "version": 3
   },
   "file_extension": ".py",
   "mimetype": "text/x-python",
   "name": "python",
   "nbconvert_exporter": "python",
   "pygments_lexer": "ipython3",
   "version": "3.12.0"
  }
 },
 "nbformat": 4,
 "nbformat_minor": 2
}
